{
  "nbformat": 4,
  "nbformat_minor": 0,
  "metadata": {
    "colab": {
      "provenance": [],
      "collapsed_sections": [],
      "authorship_tag": "ABX9TyNIGAZaId1i6WVPj5NsUmt5",
      "include_colab_link": true
    },
    "kernelspec": {
      "name": "python3",
      "display_name": "Python 3"
    },
    "language_info": {
      "name": "python"
    }
  },
  "cells": [
    {
      "cell_type": "markdown",
      "metadata": {
        "id": "view-in-github",
        "colab_type": "text"
      },
      "source": [
        "<a href=\"https://colab.research.google.com/github/steven2Gamu/2021-Galaxio/blob/main/Linear%20Regression.ipynb\" target=\"_parent\"><img src=\"https://colab.research.google.com/assets/colab-badge.svg\" alt=\"Open In Colab\"/></a>"
      ]
    },
    {
      "cell_type": "markdown",
      "source": [
        "#Linear Regression"
      ],
      "metadata": {
        "id": "-6l7G8glrdQj"
      }
    },
    {
      "cell_type": "markdown",
      "source": [
        "#### <math xmlns=\"http://www.w3.org/1998/Math/MathML\">\n",
        "  <semantics>\n",
        "    <mrow>\n",
        "      <mi>y</mi>\n",
        "      <mo>=</mo>\n",
        "      <mi>&#x03B1;</mi>\n",
        "      <mi>x</mi>\n",
        "      <mo>+</mo>\n",
        "      <mi>&#x03B2;</mi>\n",
        "    </mrow>\n",
        "  </semantics>\n",
        "</math>"
      ],
      "metadata": {
        "id": "aPu-ByIDrr6C"
      }
    },
    {
      "cell_type": "code",
      "source": [
        "import numpy as np\n",
        "import matplotlib.pyplot as plt\n",
        "\n",
        "# Creates 50 random x and y numbers\n",
        "np.random.seed(1)\n",
        "n = 50;\n",
        "x = np.random.randn(n)\n",
        "y = x * np.random.randn(n)\n",
        "     \n",
        "# Makes the dots colorful\n",
        "colors = np.random.rand(n)\n",
        "\n",
        "# Plots best-fit line via polyfit\n",
        "plt.plot(np.unique(x), np.poly1d(np.polyfit(x, y, 1))(np.unique(x)))\n",
        "\n",
        "# Plots the random x and y data points we created\n",
        "# Interestingly, alpha makes it more aesthetically pleasing\n",
        "plt.scatter(x, y, c=colors, alpha=50)\n",
        "plt.show()"
      ],
      "metadata": {
        "colab": {
          "base_uri": "https://localhost:8080/",
          "height": 0
        },
        "id": "B-6qpkAGsDYp",
        "outputId": "9fd61b11-537b-463c-ceef-9e96d7b4140b"
      },
      "execution_count": 3,
      "outputs": [
        {
          "output_type": "display_data",
          "data": {
            "text/plain": [
              "<Figure size 432x288 with 1 Axes>"
            ],
            "image/png": "[encoded data removed]"
          },
          "metadata": {
            "needs_background": "light"
          }
        }
      ]
    },
    {
      "cell_type": "markdown",
      "source": [
        "#**Linear Regression Model with Pytorch**"
      ],
      "metadata": {
        "id": "FBoEb62_uPII"
      }
    },
    {
      "cell_type": "code",
      "source": [
        "x_values  =  [i for i in range(11)]\n",
        "x_values"
      ],
      "metadata": {
        "colab": {
          "base_uri": "https://localhost:8080/"
        },
        "id": "uRWOcWTnuhXJ",
        "outputId": "fd5a8708-d7cf-4cc7-ad3e-c5470ab8df81"
      },
      "execution_count": 4,
      "outputs": [
        {
          "output_type": "execute_result",
          "data": {
            "text/plain": [
              "[0, 1, 2, 3, 4, 5, 6, 7, 8, 9, 10]"
            ]
          },
          "metadata": {},
          "execution_count": 4
        }
      ]
    },
    {
      "cell_type": "markdown",
      "source": [
        " Convert list of numbers to numpy array"
      ],
      "metadata": {
        "id": "-c2oQm_Pv34U"
      }
    },
    {
      "cell_type": "code",
      "source": [
        "x_train =  np.array(x_values, dtype=np.float32)\n",
        "x_train.shape\n",
        "\n",
        "#2D required\n",
        "x_train = x_train.reshape(-1, 1)\n",
        "x_train.shape"
      ],
      "metadata": {
        "colab": {
          "base_uri": "https://localhost:8080/"
        },
        "id": "FjBVOdXcv8lY",
        "outputId": "bc28719a-5fcd-4e40-c8cd-50600fc8bff7"
      },
      "execution_count": 5,
      "outputs": [
        {
          "output_type": "execute_result",
          "data": {
            "text/plain": [
              "(11, 1)"
            ]
          },
          "metadata": {},
          "execution_count": 5
        }
      ]
    },
    {
      "cell_type": "markdown",
      "source": [
        "Create a list of y values"
      ],
      "metadata": {
        "id": "3xgiYMiqyMko"
      }
    },
    {
      "cell_type": "code",
      "source": [
        "y_values = [2*i + 1 for i in x_values]\n",
        "y_values\n",
        "\n",
        "y_train =  np.array(y_values, dtype=np.float32)\n",
        "y_train = y_train.reshape(-1,1)\n",
        "y_train.shape"
      ],
      "metadata": {
        "colab": {
          "base_uri": "https://localhost:8080/"
        },
        "id": "snqaUOqLyQ_o",
        "outputId": "3791ff4c-0303-43b8-8e89-253101ed0189"
      },
      "execution_count": 6,
      "outputs": [
        {
          "output_type": "execute_result",
          "data": {
            "text/plain": [
              "(11, 1)"
            ]
          },
          "metadata": {},
          "execution_count": 6
        }
      ]
    },
    {
      "cell_type": "markdown",
      "source": [
        "### Building a model"
      ],
      "metadata": {
        "id": "4Yitt-ynzZ7B"
      }
    },
    {
      "cell_type": "code",
      "source": [
        "import torch\n",
        "import torch.nn as nn"
      ],
      "metadata": {
        "id": "CHrxKi3Fz0pJ"
      },
      "execution_count": 7,
      "outputs": []
    },
    {
      "cell_type": "markdown",
      "source": [
        "#### Create Model"
      ],
      "metadata": {
        "id": "ZTQj1FwB0CaY"
      }
    },
    {
      "cell_type": "markdown",
      "source": [
        "###### 1. Linear model\n",
        "          True Equation: y = 2x + 1\n",
        "###### 2. Forward \n",
        "          Example\n",
        "            Input x = 1\n",
        "            Output y = ?\n"
      ],
      "metadata": {
        "id": "pIJwstln0SP4"
      }
    },
    {
      "cell_type": "code",
      "source": [
        "#Create class\n",
        "class LinearRegressionModel(nn.Module):\n",
        "  def __init__(self,input_dim, output_dim):\n",
        "    super(LinearRegressionModel, self).__init__()\n",
        "    self.linear = nn.Linear(input_dim, output_dim)\n",
        "\n",
        "  def forward(self, x):\n",
        "    out = self.linear(x)\n",
        "    return out\n",
        "\n"
      ],
      "metadata": {
        "id": "U7bMrpQy1CEn"
      },
      "execution_count": 8,
      "outputs": []
    },
    {
      "cell_type": "markdown",
      "source": [
        "###### Instantiate Model Class"
      ],
      "metadata": {
        "id": "pl51nuWIloQQ"
      }
    },
    {
      "cell_type": "code",
      "source": [
        "input_dim = 1\n",
        "output_dim = 1\n",
        "\n",
        "model =  LinearRegressionModel(input_dim, output_dim)"
      ],
      "metadata": {
        "id": "egPwPPTblwVo"
      },
      "execution_count": 10,
      "outputs": []
    },
    {
      "cell_type": "markdown",
      "source": [
        "###### Instantiate Loss Class"
      ],
      "metadata": {
        "id": "cchMmxdRmWx5"
      }
    },
    {
      "cell_type": "code",
      "source": [
        "criterion = nn.MSELoss()"
      ],
      "metadata": {
        "id": "345LwMFOnE8A"
      },
      "execution_count": 11,
      "outputs": []
    },
    {
      "cell_type": "markdown",
      "source": [
        "###### Instantiate Optimizer Class\n",
        "          parameters = parameters - learning_rate * parameters_gradients"
      ],
      "metadata": {
        "id": "6G6AOG7nnhjp"
      }
    },
    {
      "cell_type": "code",
      "source": [
        "learning_rate = 0.01\n",
        "\n",
        "optimizer = torch.optim.SGD(model.parameters(), lr=learning_rate)"
      ],
      "metadata": {
        "id": "gH97EBjbnofn"
      },
      "execution_count": 12,
      "outputs": []
    },
    {
      "cell_type": "markdown",
      "source": [],
      "metadata": {
        "id": "vtdmzBrdnzUP"
      }
    },
    {
      "cell_type": "markdown",
      "source": [
        "##### **Train Model**"
      ],
      "metadata": {
        "id": "azEd3WG_oTk_"
      }
    },
    {
      "cell_type": "markdown",
      "source": [
        "###### Process\n",
        "        1. Convert inputs/labels to tensors with gradients\n",
        "        2. Clear gradient buffets\n",
        "        3. Get output given inputs\n",
        "        4. Get loss\n",
        "        5. Get gradients w.r.t. parameters\n",
        "        6. Update parameters using gradients\n",
        "            parameters = parameters - learning_rate * parameters_gradients"
      ],
      "metadata": {
        "id": "W3Y-czL-pLIm"
      }
    },
    {
      "cell_type": "code",
      "source": [
        "epochs = 200\n",
        "for epoch in range(epochs):\n",
        "    epoch += 1\n",
        "\n",
        "    # Convert numpy array to torch Variable\n",
        "    inputs = torch.from_numpy(x_train).requires_grad_()\n",
        "    labels = torch.from_numpy(y_train)\n",
        "\n",
        "    # Clear gradients w.r.t. parameters\n",
        "    optimizer.zero_grad() \n",
        "\n",
        "    # Forward to get output\n",
        "    outputs = model(inputs)\n",
        "\n",
        "    # Calculate Loss\n",
        "    loss = criterion(outputs, labels)\n",
        "\n",
        "    # Getting gradients w.r.t. parameters\n",
        "    loss.backward()\n",
        "\n",
        "    # Updating parameters\n",
        "    optimizer.step()\n",
        "\n",
        "    print('epoch {}, loss {}'.format(epoch, loss.item()))\n"
      ],
      "metadata": {
        "colab": {
          "base_uri": "https://localhost:8080/"
        },
        "id": "FdPY-WeP0E79",
        "outputId": "7aa940b9-0540-488f-957c-bf4efc525477"
      },
      "execution_count": 15,
      "outputs": [
        {
          "output_type": "stream",
          "name": "stdout",
          "text": [
            "epoch 1, loss 0.0031898170709609985\n",
            "epoch 2, loss 0.003154188394546509\n",
            "epoch 3, loss 0.003118958557024598\n",
            "epoch 4, loss 0.0030841373372823\n",
            "epoch 5, loss 0.0030496949329972267\n",
            "epoch 6, loss 0.0030156238935887814\n",
            "epoch 7, loss 0.002981980098411441\n",
            "epoch 8, loss 0.002948661334812641\n",
            "epoch 9, loss 0.0029157428070902824\n",
            "epoch 10, loss 0.002883174456655979\n",
            "epoch 11, loss 0.0028509818948805332\n",
            "epoch 12, loss 0.002819118555635214\n",
            "epoch 13, loss 0.0027876482345163822\n",
            "epoch 14, loss 0.002756536938250065\n",
            "epoch 15, loss 0.0027257513720542192\n",
            "epoch 16, loss 0.0026953225024044514\n",
            "epoch 17, loss 0.0026652063243091106\n",
            "epoch 18, loss 0.002635437995195389\n",
            "epoch 19, loss 0.0026060035452246666\n",
            "epoch 20, loss 0.002576937200501561\n",
            "epoch 21, loss 0.002548123011365533\n",
            "epoch 22, loss 0.0025197092909365892\n",
            "epoch 23, loss 0.002491536783054471\n",
            "epoch 24, loss 0.0024637063033878803\n",
            "epoch 25, loss 0.0024362150579690933\n",
            "epoch 26, loss 0.0024090143851935863\n",
            "epoch 27, loss 0.0023821303620934486\n",
            "epoch 28, loss 0.0023555292282253504\n",
            "epoch 29, loss 0.002329201204702258\n",
            "epoch 30, loss 0.0023031949531286955\n",
            "epoch 31, loss 0.002277487190440297\n",
            "epoch 32, loss 0.0022520520724356174\n",
            "epoch 33, loss 0.002226876327767968\n",
            "epoch 34, loss 0.0022020188625901937\n",
            "epoch 35, loss 0.0021774417255073786\n",
            "epoch 36, loss 0.002153111854568124\n",
            "epoch 37, loss 0.0021290697623044252\n",
            "epoch 38, loss 0.0021053182426840067\n",
            "epoch 39, loss 0.002081804210320115\n",
            "epoch 40, loss 0.002058540703728795\n",
            "epoch 41, loss 0.0020355505403131247\n",
            "epoch 42, loss 0.0020128386095166206\n",
            "epoch 43, loss 0.0019903306383639574\n",
            "epoch 44, loss 0.0019681109115481377\n",
            "epoch 45, loss 0.001946155447512865\n",
            "epoch 46, loss 0.0019244056893512607\n",
            "epoch 47, loss 0.0019029144896194339\n",
            "epoch 48, loss 0.0018816828960552812\n",
            "epoch 49, loss 0.0018606600351631641\n",
            "epoch 50, loss 0.0018398885149508715\n",
            "epoch 51, loss 0.0018193289870396256\n",
            "epoch 52, loss 0.0017990407068282366\n",
            "epoch 53, loss 0.0017789405537769198\n",
            "epoch 54, loss 0.001759069855324924\n",
            "epoch 55, loss 0.0017394087044522166\n",
            "epoch 56, loss 0.0017199985450133681\n",
            "epoch 57, loss 0.0017007894348353148\n",
            "epoch 58, loss 0.0016818047733977437\n",
            "epoch 59, loss 0.0016630246536806226\n",
            "epoch 60, loss 0.0016444572247564793\n",
            "epoch 61, loss 0.0016261052805930376\n",
            "epoch 62, loss 0.00160792691167444\n",
            "epoch 63, loss 0.0015899782301858068\n",
            "epoch 64, loss 0.0015722218668088317\n",
            "epoch 65, loss 0.0015546594513580203\n",
            "epoch 66, loss 0.0015372933121398091\n",
            "epoch 67, loss 0.0015201492933556437\n",
            "epoch 68, loss 0.0015031659277155995\n",
            "epoch 69, loss 0.0014863782562315464\n",
            "epoch 70, loss 0.0014697671867907047\n",
            "epoch 71, loss 0.001453358680009842\n",
            "epoch 72, loss 0.0014371267752721906\n",
            "epoch 73, loss 0.0014210875378921628\n",
            "epoch 74, loss 0.0014052098849788308\n",
            "epoch 75, loss 0.0013895194279029965\n",
            "epoch 76, loss 0.0013740167487412691\n",
            "epoch 77, loss 0.0013586747227236629\n",
            "epoch 78, loss 0.0013434960274025798\n",
            "epoch 79, loss 0.001328484620898962\n",
            "epoch 80, loss 0.0013136416673660278\n",
            "epoch 81, loss 0.0012989734532311559\n",
            "epoch 82, loss 0.0012844697339460254\n",
            "epoch 83, loss 0.0012701344676315784\n",
            "epoch 84, loss 0.0012559547321870923\n",
            "epoch 85, loss 0.0012419462436810136\n",
            "epoch 86, loss 0.0012280610390007496\n",
            "epoch 87, loss 0.001214363262988627\n",
            "epoch 88, loss 0.0012007812038064003\n",
            "epoch 89, loss 0.0011873802868649364\n",
            "epoch 90, loss 0.0011741042835637927\n",
            "epoch 91, loss 0.0011610162910073996\n",
            "epoch 92, loss 0.0011480493703857064\n",
            "epoch 93, loss 0.0011352280853316188\n",
            "epoch 94, loss 0.0011225411435589194\n",
            "epoch 95, loss 0.0011100082192569971\n",
            "epoch 96, loss 0.0010976087069138885\n",
            "epoch 97, loss 0.0010853592539206147\n",
            "epoch 98, loss 0.001073242980055511\n",
            "epoch 99, loss 0.0010612427722662687\n",
            "epoch 100, loss 0.0010493892477825284\n",
            "epoch 101, loss 0.0010376778664067388\n",
            "epoch 102, loss 0.0010260847629979253\n",
            "epoch 103, loss 0.0010146367130801082\n",
            "epoch 104, loss 0.0010033096186816692\n",
            "epoch 105, loss 0.0009921037126332521\n",
            "epoch 106, loss 0.0009810260962694883\n",
            "epoch 107, loss 0.0009700636728666723\n",
            "epoch 108, loss 0.0009592341375537217\n",
            "epoch 109, loss 0.0009485261398367584\n",
            "epoch 110, loss 0.0009379293769598007\n",
            "epoch 111, loss 0.0009274488547816873\n",
            "epoch 112, loss 0.0009171026176773012\n",
            "epoch 113, loss 0.0009068488725461066\n",
            "epoch 114, loss 0.0008967262110672891\n",
            "epoch 115, loss 0.0008867277065292001\n",
            "epoch 116, loss 0.0008768023690208793\n",
            "epoch 117, loss 0.0008670240640640259\n",
            "epoch 118, loss 0.0008573522791266441\n",
            "epoch 119, loss 0.0008477598894387484\n",
            "epoch 120, loss 0.0008382935193367302\n",
            "epoch 121, loss 0.0008289282559417188\n",
            "epoch 122, loss 0.0008196777198463678\n",
            "epoch 123, loss 0.0008105349261313677\n",
            "epoch 124, loss 0.0008014763006940484\n",
            "epoch 125, loss 0.0007925130776129663\n",
            "epoch 126, loss 0.0007836809381842613\n",
            "epoch 127, loss 0.0007749369833618402\n",
            "epoch 128, loss 0.0007662862190045416\n",
            "epoch 129, loss 0.0007577299838885665\n",
            "epoch 130, loss 0.0007492583827115595\n",
            "epoch 131, loss 0.0007408888777717948\n",
            "epoch 132, loss 0.0007326252525672317\n",
            "epoch 133, loss 0.0007244358421303332\n",
            "epoch 134, loss 0.0007163402042351663\n",
            "epoch 135, loss 0.0007083425880409777\n",
            "epoch 136, loss 0.0007004374638199806\n",
            "epoch 137, loss 0.0006926025962457061\n",
            "epoch 138, loss 0.0006848799530416727\n",
            "epoch 139, loss 0.000677236937917769\n",
            "epoch 140, loss 0.0006696773343719542\n",
            "epoch 141, loss 0.0006621932843700051\n",
            "epoch 142, loss 0.0006547923549078405\n",
            "epoch 143, loss 0.0006474925903603435\n",
            "epoch 144, loss 0.0006402521976269782\n",
            "epoch 145, loss 0.0006331086624413729\n",
            "epoch 146, loss 0.000626031425781548\n",
            "epoch 147, loss 0.0006190476124174893\n",
            "epoch 148, loss 0.0006121211335994303\n",
            "epoch 149, loss 0.0006052941898815334\n",
            "epoch 150, loss 0.0005985354073345661\n",
            "epoch 151, loss 0.0005918577080592513\n",
            "epoch 152, loss 0.0005852432805113494\n",
            "epoch 153, loss 0.0005787140689790249\n",
            "epoch 154, loss 0.0005722509231418371\n",
            "epoch 155, loss 0.0005658691516146064\n",
            "epoch 156, loss 0.0005595380789600313\n",
            "epoch 157, loss 0.0005532870418392122\n",
            "epoch 158, loss 0.0005471036420203745\n",
            "epoch 159, loss 0.0005410040030255914\n",
            "epoch 160, loss 0.0005349567509256303\n",
            "epoch 161, loss 0.000528984353877604\n",
            "epoch 162, loss 0.0005230809911154211\n",
            "epoch 163, loss 0.0005172270466573536\n",
            "epoch 164, loss 0.0005114542436785996\n",
            "epoch 165, loss 0.0005057451780885458\n",
            "epoch 166, loss 0.0005001021199859679\n",
            "epoch 167, loss 0.0004945285618305206\n",
            "epoch 168, loss 0.0004889939446002245\n",
            "epoch 169, loss 0.00048353549209423363\n",
            "epoch 170, loss 0.00047813847777433693\n",
            "epoch 171, loss 0.00047279306454584\n",
            "epoch 172, loss 0.0004675262898672372\n",
            "epoch 173, loss 0.00046229612780734897\n",
            "epoch 174, loss 0.0004571344761643559\n",
            "epoch 175, loss 0.00045203918125480413\n",
            "epoch 176, loss 0.00044698704732581973\n",
            "epoch 177, loss 0.00044200074626132846\n",
            "epoch 178, loss 0.000437061331467703\n",
            "epoch 179, loss 0.0004321751184761524\n",
            "epoch 180, loss 0.00042735354509204626\n",
            "epoch 181, loss 0.00042258549365215003\n",
            "epoch 182, loss 0.00041784951463341713\n",
            "epoch 183, loss 0.00041319814044982195\n",
            "epoch 184, loss 0.00040857738349586725\n",
            "epoch 185, loss 0.0004040147177875042\n",
            "epoch 186, loss 0.00039950988139025867\n",
            "epoch 187, loss 0.00039503342122770846\n",
            "epoch 188, loss 0.00039064043085090816\n",
            "epoch 189, loss 0.0003862721787299961\n",
            "epoch 190, loss 0.00038195739034563303\n",
            "epoch 191, loss 0.00037768855690956116\n",
            "epoch 192, loss 0.0003734766214620322\n",
            "epoch 193, loss 0.0003692995524033904\n",
            "epoch 194, loss 0.0003651815641205758\n",
            "epoch 195, loss 0.0003611055144574493\n",
            "epoch 196, loss 0.0003570726257748902\n",
            "epoch 197, loss 0.000353083509253338\n",
            "epoch 198, loss 0.00034913624403998256\n",
            "epoch 199, loss 0.0003452480013947934\n",
            "epoch 200, loss 0.0003413895610719919\n"
          ]
        }
      ]
    },
    {
      "cell_type": "markdown",
      "source": [
        "##### Looking at predicted & training values"
      ],
      "metadata": {
        "id": "w02563gS1aPs"
      }
    },
    {
      "cell_type": "code",
      "source": [
        "# Purely inference\n",
        "predicted = model(torch.from_numpy(x_train).requires_grad_()).data.numpy()\n",
        "predicted\n",
        "\n",
        "# y = 2x + 1 \n",
        "y_train"
      ],
      "metadata": {
        "colab": {
          "base_uri": "https://localhost:8080/"
        },
        "id": "E0hJGYtF1ibk",
        "outputId": "956c0935-2d64-4827-dc1c-61452a1ba30b"
      },
      "execution_count": 16,
      "outputs": [
        {
          "output_type": "execute_result",
          "data": {
            "text/plain": [
              "array([[ 0.96562976],\n",
              "       [ 2.9705794 ],\n",
              "       [ 4.9755287 ],\n",
              "       [ 6.9804783 ],\n",
              "       [ 8.985428  ],\n",
              "       [10.990377  ],\n",
              "       [12.995327  ],\n",
              "       [15.000277  ],\n",
              "       [17.005226  ],\n",
              "       [19.010176  ],\n",
              "       [21.015125  ]], dtype=float32)"
            ]
          },
          "metadata": {},
          "execution_count": 16
        }
      ]
    },
    {
      "cell_type": "markdown",
      "source": [
        "##### Plot of predicted and actual values"
      ],
      "metadata": {
        "id": "SO8YzFZn18rE"
      }
    },
    {
      "cell_type": "code",
      "source": [
        "# Clear figure\n",
        "plt.clf()\n",
        "\n",
        "# Get predictions\n",
        "predicted = model(torch.from_numpy(x_train).requires_grad_()).data.numpy()\n",
        "\n",
        "# Plot true data\n",
        "plt.plot(x_train, y_train, 'go', label='True data', alpha=0.5)\n",
        "\n",
        "# Plot predictions\n",
        "plt.plot(x_train, predicted, '--', label='Predictions', alpha=0.5)\n",
        "\n",
        "# Legend and plot\n",
        "plt.legend(loc='best')\n",
        "plt.show()"
      ],
      "metadata": {
        "colab": {
          "base_uri": "https://localhost:8080/",
          "height": 265
        },
        "id": "MVHXtSc31-u8",
        "outputId": "5150dcd2-0617-45d9-fc77-987c36fe7364"
      },
      "execution_count": 17,
      "outputs": [
        {
          "output_type": "display_data",
          "data": {
            "text/plain": [
              "<Figure size 432x288 with 1 Axes>"
            ],
            "image/png": "[encoded data removed]"
          },
          "metadata": {
            "needs_background": "light"
          }
        }
      ]
    },
    {
      "cell_type": "markdown",
      "source": [
        "##### Save Model"
      ],
      "metadata": {
        "id": "GCB3kv8n2FgL"
      }
    },
    {
      "cell_type": "code",
      "source": [
        "save_model = False\n",
        "if save_model is True:\n",
        "    # Saves only parameters\n",
        "    # alpha & beta\n",
        "    torch.save(model.state_dict(), 'awesome_model.pkl')"
      ],
      "metadata": {
        "id": "7vjIU2I72IW8"
      },
      "execution_count": 18,
      "outputs": []
    },
    {
      "cell_type": "markdown",
      "source": [
        "###### Load Model"
      ],
      "metadata": {
        "id": "XEHV591t2KvM"
      }
    },
    {
      "cell_type": "code",
      "source": [
        "load_model = False\n",
        "if load_model is True:\n",
        "    model.load_state_dict(torch.load('awesome_model.pkl'))"
      ],
      "metadata": {
        "id": "q8ueUHcD2Nwt"
      },
      "execution_count": 19,
      "outputs": []
    }
  ]
}