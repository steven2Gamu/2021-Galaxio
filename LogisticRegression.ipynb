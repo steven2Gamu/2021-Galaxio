{
  "nbformat": 4,
  "nbformat_minor": 0,
  "metadata": {
    "colab": {
      "provenance": [],
      "collapsed_sections": [],
      "authorship_tag": "ABX9TyOu9ZYsJsAIyvG5yhoekRbQ",
      "include_colab_link": true
    },
    "kernelspec": {
      "name": "python3",
      "display_name": "Python 3"
    },
    "language_info": {
      "name": "python"
    }
  },
  "cells": [
    {
      "cell_type": "markdown",
      "metadata": {
        "id": "view-in-github",
        "colab_type": "text"
      },
      "source": [
        "<a href=\"https://colab.research.google.com/github/steven2Gamu/2021-Galaxio/blob/main/LogisticRegression.ipynb\" target=\"_parent\"><img src=\"https://colab.research.google.com/assets/colab-badge.svg\" alt=\"Open In Colab\"/></a>"
      ]
    },
    {
      "cell_type": "markdown",
      "source": [
        "# **Logistic Regression**"
      ],
      "metadata": {
        "id": "ZtfkkCq1Cz1B"
      }
    },
    {
      "cell_type": "markdown",
      "source": [
        "#### Logistic regression:\n",
        "      Output: probability [0, 1] given input belonging to a class"
      ],
      "metadata": {
        "id": "5usXd_PRDCAb"
      }
    },
    {
      "cell_type": "markdown",
      "source": [
        "###### Load Data"
      ],
      "metadata": {
        "id": "aUQArairTKU0"
      }
    },
    {
      "cell_type": "code",
      "source": [
        "import torch\n",
        "import torch.nn as nn\n",
        "import torchvision.transforms as transforms\n",
        "import torchvision.datasets as dsets\n",
        "import matplotlib.pyplot as plt\n",
        "import numpy as np\n",
        "import collections"
      ],
      "metadata": {
        "id": "wVbFFRm2DIoY"
      },
      "execution_count": 48,
      "outputs": []
    },
    {
      "cell_type": "code",
      "source": [
        "train_dataset = dsets.MNIST(root='./data', \n",
        "                            train=True,\n",
        "                            transform=transforms.ToTensor(), download=True)\n",
        "\n",
        "test_dataset = dsets.MNIST(root='./data', \n",
        "                           train=False, \n",
        "                           transform=transforms.ToTensor())\n"
      ],
      "metadata": {
        "id": "607FM37f10uc"
      },
      "execution_count": 59,
      "outputs": []
    },
    {
      "cell_type": "code",
      "source": [
        "len(train_dataset)\n",
        "type(train_dataset[0])\n",
        "\n",
        "# Input Matrix\n",
        "train_dataset[0][0].size()\n",
        "train_dataset[0][0].numpy().shape\n",
        "show_img = train_dataset[1][0].numpy().reshape(28, 28)\n",
        "plt.imshow(show_img, cmap='gray')\n",
        "train_dataset[1][1]"
      ],
      "metadata": {
        "id": "VFP_KzFP2uGU",
        "colab": {
          "base_uri": "https://localhost:8080/",
          "height": 282
        },
        "outputId": "76cf11d4-457a-4019-fe87-5c4a0615733d"
      },
      "execution_count": 50,
      "outputs": [
        {
          "output_type": "execute_result",
          "data": {
            "text/plain": [
              "0"
            ]
          },
          "metadata": {},
          "execution_count": 50
        },
        {
          "output_type": "display_data",
          "data": {
            "text/plain": [
              "<Figure size 432x288 with 1 Axes>"
            ],
            "image/png": "[encoded data removed]"
          },
          "metadata": {
            "needs_background": "light"
          }
        }
      ]
    },
    {
      "cell_type": "markdown",
      "source": [
        "###### Make Dataset Iterable"
      ],
      "metadata": {
        "id": "4ElisZuvBpQU"
      }
    },
    {
      "cell_type": "markdown",
      "source": [
        "      Aim: make the dataset iterable\n",
        "      totaldata: 60000\n",
        "      minibatch: 100\n",
        "        :Number of examples in 1 iteration\n",
        "      iterations: 3000\n",
        "        :1 iteration: one mini-batch forward & backward pass\n",
        "      epochs\n",
        "        :1 epoch: running through the whole dataset once\n",
        "        :epochs = iterations ÷ totaldata/minibatch = 3000 ÷ 60000/100 = 5\n",
        "        "
      ],
      "metadata": {
        "id": "9x2E1qxpBxIy"
      }
    },
    {
      "cell_type": "code",
      "source": [
        "batch_size = 100\n",
        "n_iters = 3000\n",
        "\n",
        "num_epochs = n_iters / (len(train_dataset) / batch_size)\n",
        "num_epochs = int(num_epochs)\n",
        "num_epochs\n",
        "\n",
        "train_loader = torch.utils.data.DataLoader(dataset=train_dataset, \n",
        "                                           batch_size=batch_size, \n",
        "                                           shuffle=True)\n",
        "\n",
        "# Iterable object\n",
        "test_loader = torch.utils.data.DataLoader(dataset=test_dataset, \n",
        "                                          batch_size=batch_size, \n",
        "                                          shuffle=False)\n",
        "\n",
        "isinstance(train_loader, collections.Iterable)\n",
        "isinstance(test_loader, collections.Iterable)"
      ],
      "metadata": {
        "colab": {
          "base_uri": "https://localhost:8080/"
        },
        "id": "UJO9zRKhCzvx",
        "outputId": "2f829b0c-20cf-4e9d-b8d9-5931942f4d38"
      },
      "execution_count": 58,
      "outputs": [
        {
          "output_type": "execute_result",
          "data": {
            "text/plain": [
              "True"
            ]
          },
          "metadata": {},
          "execution_count": 58
        }
      ]
    },
    {
      "cell_type": "markdown",
      "source": [
        "######  Building Model"
      ],
      "metadata": {
        "id": "VesxhyxxMX62"
      }
    },
    {
      "cell_type": "code",
      "source": [
        "class LogisticRegressionModel(nn.Module):\n",
        "  def __init__(self, input_dim, output_dim):\n",
        "    super(LogisticRegressionModel, self).__init__()\n",
        "    self.linear = nn.Linear(input_dim, output_dim)\n",
        "\n",
        "  def forward(self,x):\n",
        "    out = self.linear(x)\n",
        "    return out\n",
        "\n",
        "input_dim = 28*28\n",
        "output_dim = 10\n",
        "\n",
        "model = LogisticRegressionModel(input_dim, output_dim)\n"
      ],
      "metadata": {
        "id": "QEpkyo17MeNZ"
      },
      "execution_count": 52,
      "outputs": []
    },
    {
      "cell_type": "markdown",
      "source": [
        "###### Instantiate Loss Class"
      ],
      "metadata": {
        "id": "2XVjVVtWQOBl"
      }
    },
    {
      "cell_type": "code",
      "source": [
        "# Create Cross Entry Loss Class\n",
        "# Unlike linear regression, we do not use MSE here, we need Cross Entry Loss to calculate our loss before we backpropagate and update our parameters\n",
        "\n",
        "criterion = nn.CrossEntropyLoss()  \n",
        "\n",
        "# What happens in nn.CrossEntropyLoss()?\n",
        "\n",
        "# It does 2 things at the same time.\n",
        "        # 1. Computes softmax (logistic/softmax function)\n",
        "        # 2. Computes cross entropy\n"
      ],
      "metadata": {
        "colab": {
          "base_uri": "https://localhost:8080/"
        },
        "id": "YkbU9jYxQVQ8",
        "outputId": "00e5de28-cebc-47b1-9d79-8f3f42b56f5d"
      },
      "execution_count": 57,
      "outputs": [
        {
          "output_type": "stream",
          "name": "stdout",
          "text": [
            "<generator object Module.parameters at 0x7f41e6fe8ed0>\n",
            "2\n",
            "torch.Size([10, 784])\n",
            "torch.Size([10])\n"
          ]
        }
      ]
    },
    {
      "cell_type": "markdown",
      "source": [
        "###### Instantiate Optimiizer Class"
      ],
      "metadata": {
        "id": "tsWUCxSVSS38"
      }
    },
    {
      "cell_type": "code",
      "source": [
        "# parameters = parameters - learning_rate * parameters_gradients\n",
        "# At every iteration, we update our model's parameters\n",
        "\n",
        "learning_rate = 0.001\n",
        "\n",
        "optimizer = torch.optim.SGD(model.parameters(), lr=learning_rate)  \n",
        "\n",
        "# Type of parameter object\n",
        "print(model.parameters())\n",
        "\n",
        "# Length of parameters\n",
        "print(len(list(model.parameters())))\n",
        "\n",
        "# FC 1 Parameters \n",
        "print(list(model.parameters())[0].size())\n",
        "\n",
        "# FC 1 Bias Parameters\n",
        "print(list(model.parameters())[1].size())"
      ],
      "metadata": {
        "id": "iUTPR36XSZx3"
      },
      "execution_count": null,
      "outputs": []
    },
    {
      "cell_type": "markdown",
      "source": [],
      "metadata": {
        "id": "HMiQimHUS9-n"
      }
    },
    {
      "cell_type": "markdown",
      "source": [
        "###### Train Model\n",
        "        Process\n",
        "          1. Convert inputs/labels to tensors with gradients\n",
        "          2. Clear gradient buffets\n",
        "          3. Get output given inputs\n",
        "          4. Get loss\n",
        "          5. Get gradients w.r.t. parameters\n",
        "          6. Update parameters using gradients\n",
        "               • parameters = parameters - learning_rate * parameters_gradients\n",
        "          7. REPEAT"
      ],
      "metadata": {
        "id": "bnk-u84ETC60"
      }
    },
    {
      "cell_type": "code",
      "source": [
        "iter = 0\n",
        "for epoch in range(num_epochs):\n",
        "    for i, (images, labels) in enumerate(train_loader):\n",
        "        # Load images as Variable\n",
        "        images = images.view(-1, 28*28).requires_grad_()\n",
        "        labels = labels\n",
        "\n",
        "        # Clear gradients w.r.t. parameters\n",
        "        optimizer.zero_grad()\n",
        "\n",
        "        # Forward pass to get output/logits\n",
        "        outputs = model(images)\n",
        "\n",
        "        # Calculate Loss: softmax --> cross entropy loss\n",
        "        loss = criterion(outputs, labels)\n",
        "\n",
        "        # Getting gradients w.r.t. parameters\n",
        "        loss.backward()\n",
        "\n",
        "        # Updating parameters\n",
        "        optimizer.step()\n",
        "\n",
        "        iter += 1\n",
        "\n",
        "        if iter % 500 == 0:\n",
        "            # Calculate Accuracy         \n",
        "            correct = 0\n",
        "            total = 0\n",
        "            # Iterate through test dataset\n",
        "            for images, labels in test_loader:\n",
        "                # Load images to a Torch Variable\n",
        "                images = images.view(-1, 28*28).requires_grad_()\n",
        "\n",
        "                # Forward pass only to get logits/output\n",
        "                outputs = model(images)\n",
        "\n",
        "                # Get predictions from the maximum value\n",
        "                _, predicted = torch.max(outputs.data, 1)\n",
        "\n",
        "                # Total number of labels\n",
        "                total += labels.size(0)\n",
        "\n",
        "                # Total correct predictions\n",
        "                correct += (predicted == labels).sum()\n",
        "\n",
        "            accuracy = 100 * correct / total\n",
        "\n",
        "            # Print Loss\n",
        "            print('Iteration: {}. Loss: {}. Accuracy: {}'.format(iter, loss.item(), accuracy))"
      ],
      "metadata": {
        "colab": {
          "base_uri": "https://localhost:8080/"
        },
        "id": "9AXFeuUzTGEH",
        "outputId": "c38dc30e-be77-461d-c4b6-c602b810c1a9"
      },
      "execution_count": 62,
      "outputs": [
        {
          "output_type": "stream",
          "name": "stdout",
          "text": [
            "Iteration: 500. Loss: 0.9011428356170654. Accuracy: 83.48999786376953\n",
            "Iteration: 1000. Loss: 0.9259470105171204. Accuracy: 83.94999694824219\n",
            "Iteration: 1500. Loss: 0.8562158346176147. Accuracy: 84.37999725341797\n",
            "Iteration: 2000. Loss: 0.796617865562439. Accuracy: 84.8499984741211\n",
            "Iteration: 2500. Loss: 0.7802692651748657. Accuracy: 85.16999816894531\n",
            "Iteration: 3000. Loss: 0.8803310990333557. Accuracy: 85.47000122070312\n"
          ]
        }
      ]
    },
    {
      "cell_type": "markdown",
      "source": [
        "###### Save Model"
      ],
      "metadata": {
        "id": "dzIme2KDWcbL"
      }
    },
    {
      "cell_type": "code",
      "source": [
        "save_model = False\n",
        "if save_model is True:\n",
        "    # Saves only parameters\n",
        "    torch.save(model.state_dict(), 'awesome_model.pkl')"
      ],
      "metadata": {
        "id": "tKA6fcIYWg92"
      },
      "execution_count": 60,
      "outputs": []
    }
  ]
}