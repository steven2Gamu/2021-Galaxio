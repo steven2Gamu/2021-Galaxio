{
  "nbformat": 4,
  "nbformat_minor": 0,
  "metadata": {
    "colab": {
      "provenance": [],
      "collapsed_sections": [],
      "authorship_tag": "ABX9TyMbg2QEBylHjGyRjrcn5Iry",
      "include_colab_link": true
    },
    "kernelspec": {
      "name": "python3",
      "display_name": "Python 3"
    },
    "language_info": {
      "name": "python"
    }
  },
  "cells": [
    {
      "cell_type": "markdown",
      "metadata": {
        "id": "view-in-github",
        "colab_type": "text"
      },
      "source": [
        "<a href=\"https://colab.research.google.com/github/steven2Gamu/2021-Galaxio/blob/main/gradient.ipynb\" target=\"_parent\"><img src=\"https://colab.research.google.com/assets/colab-badge.svg\" alt=\"Open In Colab\"/></a>"
      ]
    },
    {
      "cell_type": "code",
      "source": [
        "import torch\n",
        "import numpy as np\n",
        "\n",
        "x =  torch.zeros(2, requires_grad=True)\n",
        "\n",
        "y =  5*(x+1)**2\n",
        "# print(y)\n",
        "o = (1/2)* torch.sum(y)\n",
        "# print(o)\n",
        "o.backward()\n",
        "x.grad"
      ],
      "metadata": {
        "colab": {
          "base_uri": "https://localhost:8080/"
        },
        "id": "Xb229H4akqPk",
        "outputId": "2e447cac-2f74-4bc0-bcb0-247f86fe7eb8"
      },
      "execution_count": 15,
      "outputs": [
        {
          "output_type": "execute_result",
          "data": {
            "text/plain": [
              "tensor([5., 5.])"
            ]
          },
          "metadata": {},
          "execution_count": 15
        }
      ]
    }
  ]
}